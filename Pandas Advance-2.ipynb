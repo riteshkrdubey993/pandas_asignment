{
 "cells": [
  {
   "cell_type": "markdown",
   "id": "9b883b2d-c0f4-4669-bac5-fc1195777790",
   "metadata": {},
   "source": [
    "Consider following code to answer further questions:\n",
    "\n",
    "        import pandas as pd\n",
    "        course_name = [‘Data Science’, ‘Machine Learning’, ‘Big Data’, ‘Data Engineer’]\n",
    "        duration = [2,3,6,4]\n",
    "        df = pd.DataFrame(data = {‘course_name’ : course_name, ‘duration’ : duration})\n",
    "# Q1. Write a code to print the data present in the second row of the dataframe, df."
   ]
  },
  {
   "cell_type": "code",
   "execution_count": 68,
   "id": "387c9e59-c702-41f3-9b9c-5eb042b17324",
   "metadata": {},
   "outputs": [
    {
     "name": "stdout",
     "output_type": "stream",
     "text": [
      "course_name    Machine Learning\n",
      "duration                      3\n",
      "Name: 1, dtype: object\n"
     ]
    }
   ],
   "source": [
    "import pandas as pd\n",
    "course_name = ['Data Science','Machine Learning','Big Data','Data Engineer']\n",
    "duration = [2,3,6,4]\n",
    "df = pd.DataFrame(data = {'course_name' : course_name, 'duration' : duration})\n",
    "\n",
    "\n",
    "print(df.iloc[1])"
   ]
  },
  {
   "cell_type": "markdown",
   "id": "01d76863-f242-4563-b873-b8de7e1817d5",
   "metadata": {},
   "source": [
    "# Q2. What is the difference between the functions loc and iloc in pandas.DataFrame?"
   ]
  },
  {
   "cell_type": "markdown",
   "id": "af198ff9-7274-44a5-8392-2f2f435980e5",
   "metadata": {},
   "source": [
    "In Pandas, both the 'loc' and 'iloc' functions are used to access data in a DataFrame, but they have different ways of indexing and selecting data, and they serve slightly different purposes:\n",
    "\n",
    "## loc (label-based selection):\n",
    "\n",
    "1. loc is primarily used for selecting data by label, which means we specify the row and column labels to access data.\n",
    "2. It includes the endpoint when slicing, meaning that the end label is included in the selection.\n",
    "3. We can use row and column labels, including boolean masks for selection.\n",
    "4. When using loc, we refer to row and column labels explicitly by their names.\n",
    "\n",
    "\n",
    "## iloc (integer-based selection):\n",
    "\n",
    "1. iloc is used for selecting data by integer position, where we specify the row and column indices (0-based) to access data.\n",
    "2. It follows Python's indexing convention, which means the endpoint is not included when slicing.\n",
    "3. We can use integer indices and slices to select data.\n",
    "4. When using iloc, we refer to row and column positions by their integer indices."
   ]
  },
  {
   "cell_type": "markdown",
   "id": "116db3a6-3a0f-4b38-afb9-260477f5ff4c",
   "metadata": {},
   "source": [
    "# Q3. Reindex the given dataframe using a variable, reindex = [3,0,1,2] and store it in the variable, new_df then find the output for both new_df.loc[2] and new_df.iloc[2]. Did you observe any difference in both the outputs? If so then explain it. Consider the below code to answer further questions:\n",
    "\n",
    "    import pandas as pd\n",
    "    import numpy as np\n",
    "    columns = ['column_1', 'column_2', 'column_3', 'column_4', 'column_5', 'column_6']\n",
    "    indices = [1,2,3,4,5,6]\n",
    "    #Creating a dataframe:\n",
    "    df1 = pd.DataFrame(np.random.rand(6,6), columns = columns, index = indices)"
   ]
  },
  {
   "cell_type": "code",
   "execution_count": 69,
   "id": "3aaf6317-9ba5-4f27-a5d4-0f5b21b355bc",
   "metadata": {},
   "outputs": [
    {
     "name": "stdout",
     "output_type": "stream",
     "text": [
      "   column_1  column_2  column_3  column_4  column_5  column_6\n",
      "1  0.734390  0.049639  0.768686  0.775157  0.689696  0.663889\n",
      "2  0.136433  0.721173  0.894092  0.707857  0.511880  0.295075\n",
      "3  0.469012  0.519548  0.652513  0.867007  0.730483  0.692359\n",
      "4  0.000813  0.773346  0.050360  0.151248  0.070464  0.849608\n",
      "5  0.438006  0.140202  0.570142  0.535451  0.361059  0.406601\n",
      "6  0.039983  0.816812  0.028721  0.895091  0.616783  0.272599\n",
      "   column_1  column_2  column_3  column_4  column_5  column_6\n",
      "3  0.469012  0.519548  0.652513  0.867007  0.730483  0.692359\n",
      "0       NaN       NaN       NaN       NaN       NaN       NaN\n",
      "1  0.734390  0.049639  0.768686  0.775157  0.689696  0.663889\n",
      "2  0.136433  0.721173  0.894092  0.707857  0.511880  0.295075\n"
     ]
    }
   ],
   "source": [
    "import pandas as pd\n",
    "import numpy as np\n",
    "\n",
    "columns = ['column_1', 'column_2', 'column_3', 'column_4', 'column_5', 'column_6']\n",
    "indices = [1,2,3,4,5,6]\n",
    "\n",
    "#Creating a dataframe:\n",
    "\n",
    "df1 = pd.DataFrame(np.random.rand(6,6), columns = columns, index = indices)\n",
    "reindex = [3,0,1,2]\n",
    "\n",
    "df2 = df1.reindex(labels = reindex)\n",
    "print(df1)\n",
    "print(df2)"
   ]
  },
  {
   "cell_type": "markdown",
   "id": "0ff9db2e-f66d-4010-86cd-dea89e0acca4",
   "metadata": {},
   "source": [
    "The difference in both dataframe is in their order of index. In df2 index 0 is assign by index 3 of df1 and so on but index 0 shows all null values in df2, this is because there is no any 0th index row in df1. "
   ]
  },
  {
   "cell_type": "markdown",
   "id": "dfa5f179-310a-4006-a457-6a7ad5fbf195",
   "metadata": {},
   "source": [
    "# Q4. Write a code to find the following statistical measurements for the above dataframe df1:\n",
    "    (i) mean of each and every column present in the dataframe.\n",
    "    (ii) standard deviation of column, ‘column_2’"
   ]
  },
  {
   "cell_type": "code",
   "execution_count": 70,
   "id": "7a690913-494d-43d6-bf3e-3a6be03b2f83",
   "metadata": {},
   "outputs": [
    {
     "name": "stdout",
     "output_type": "stream",
     "text": [
      "column_1    0.303106\n",
      "column_2    0.503453\n",
      "column_3    0.494086\n",
      "column_4    0.655302\n",
      "column_5    0.496728\n",
      "column_6    0.530022\n",
      "dtype: float64\n",
      "Standard Deviation of column_2 is:  0.3336451660557925\n"
     ]
    }
   ],
   "source": [
    "# mean of each and every column\n",
    "\n",
    "print(df1.mean())\n",
    "\n",
    "#standard deviation of column, ‘column_2’\n",
    "print(\"Standard Deviation of column_2 is: \",df1['column_2'].std())"
   ]
  },
  {
   "cell_type": "markdown",
   "id": "f44bf4f7-9eaa-4539-b2c8-1683c1bf33e5",
   "metadata": {},
   "source": [
    "# Q5. Replace the data present in the second row of column, ‘column_2’ by a string variable then find the mean of column, column_2. If you are getting errors in executing it then explain why. [Hint: To replace the data use df1.loc[] and equate this to string data of your choice.]"
   ]
  },
  {
   "cell_type": "code",
   "execution_count": 71,
   "id": "a1188fd2-c0a2-46eb-b211-91b649e3dddc",
   "metadata": {},
   "outputs": [
    {
     "ename": "TypeError",
     "evalue": "'NoneType' object is not subscriptable",
     "output_type": "error",
     "traceback": [
      "\u001b[0;31m---------------------------------------------------------------------------\u001b[0m",
      "\u001b[0;31mTypeError\u001b[0m                                 Traceback (most recent call last)",
      "Cell \u001b[0;32mIn[71], line 2\u001b[0m\n\u001b[1;32m      1\u001b[0m df_replaced \u001b[38;5;241m=\u001b[39m df1\u001b[38;5;241m.\u001b[39mreplace(df1\u001b[38;5;241m.\u001b[39mloc[\u001b[38;5;241m2\u001b[39m][\u001b[38;5;124m'\u001b[39m\u001b[38;5;124mcolumn_2\u001b[39m\u001b[38;5;124m'\u001b[39m], \u001b[38;5;124m'\u001b[39m\u001b[38;5;124mRitesh\u001b[39m\u001b[38;5;124m'\u001b[39m, inplace \u001b[38;5;241m=\u001b[39m \u001b[38;5;28;01mTrue\u001b[39;00m)\n\u001b[0;32m----> 2\u001b[0m \u001b[43mdf_replaced\u001b[49m\u001b[43m[\u001b[49m\u001b[38;5;124;43m'\u001b[39;49m\u001b[38;5;124;43mcolumn_2\u001b[39;49m\u001b[38;5;124;43m'\u001b[39;49m\u001b[43m]\u001b[49m\u001b[38;5;241m.\u001b[39mmean()\n",
      "\u001b[0;31mTypeError\u001b[0m: 'NoneType' object is not subscriptable"
     ]
    }
   ],
   "source": [
    "df_replaced = df1.replace(df1.loc[2]['column_2'], 'Ritesh', inplace = True)\n",
    "df_replaced['column_2'].mean()"
   ]
  },
  {
   "cell_type": "markdown",
   "id": "a53527a4-25a7-430b-9117-186ab98850d5",
   "metadata": {},
   "source": [
    "We can perform mean operation to calculate average value, but in this case we are trying to calculate mean of column_2 which contain a string value. Since we cannot perform mathematical operation on non numeric value which is in this case is \"Ritesh\". Therefore we are ggetting an error"
   ]
  },
  {
   "cell_type": "markdown",
   "id": "1e0e8581-0a58-41c1-be66-72878df01550",
   "metadata": {},
   "source": [
    "# Q6. What do you understand about the windows function in pandas and list the types of windows functions?"
   ]
  },
  {
   "cell_type": "markdown",
   "id": "06028e1e-e004-4739-87d5-d4ac0f6ccec8",
   "metadata": {},
   "source": [
    "\n",
    "In Pandas, a window function (also known as a \"windowing\" or \"rolling\" function) is a powerful tool for performing operations on a set of data points that are defined within a fixed-size window or rolling window. These functions allow you to perform calculations, aggregations, and transformations over a specific subset of data points, which can be helpful for various analytical tasks, such as time series analysis, moving averages, and more.\n",
    "\n",
    "Window functions in Pandas are primarily implemented using the .rolling() method, which creates a rolling view of the data. Here are some common types of window functions in Pandas:\n",
    "\n",
    "1. Moving Average (Rolling Mean): Calculates the mean of values within a rolling window. It is useful for smoothing time series data.\n",
    "2. Exponential Moving Average (EMA): Calculates the exponentially weighted moving average of values within a rolling window. It gives more weight to recent data points.\n",
    "3. Sum: Computes the sum of values within a rolling window.\n",
    "4. Minimum and Maximum: Calculate the minimum and maximum values within a rolling window.\n",
    "5. Standard Deviation: Computes the standard deviation of values within a rolling window.\n",
    "6. Rank: Assigns ranks to values within a rolling window. You can specify the method, such as 'min', 'max', 'average', etc.\n",
    "7. Count: Counts the number of non-null values within a rolling window.\n",
    "8. Correlation and Covariance: Calculate the correlation and covariance between two series within a rolling window.\n",
    "9. Expanding Windows: Instead of rolling windows, you can also use expanding windows to accumulate values from the beginning of the series up to the current point."
   ]
  },
  {
   "cell_type": "markdown",
   "id": "a59590a9-b229-4433-bf6c-3838455e9ee3",
   "metadata": {},
   "source": [
    "# Q7. Write a code to print only the current month and year at the time of answering this question. [Hint: Use pandas.datetime function]"
   ]
  },
  {
   "cell_type": "code",
   "execution_count": 72,
   "id": "90dbe064-87ef-41d6-ad43-a8c2cba42623",
   "metadata": {},
   "outputs": [
    {
     "data": {
      "text/html": [
       "<div>\n",
       "<style scoped>\n",
       "    .dataframe tbody tr th:only-of-type {\n",
       "        vertical-align: middle;\n",
       "    }\n",
       "\n",
       "    .dataframe tbody tr th {\n",
       "        vertical-align: top;\n",
       "    }\n",
       "\n",
       "    .dataframe thead th {\n",
       "        text-align: right;\n",
       "    }\n",
       "</style>\n",
       "<table border=\"1\" class=\"dataframe\">\n",
       "  <thead>\n",
       "    <tr style=\"text-align: right;\">\n",
       "      <th></th>\n",
       "      <th>date</th>\n",
       "      <th>month</th>\n",
       "      <th>year</th>\n",
       "    </tr>\n",
       "  </thead>\n",
       "  <tbody>\n",
       "    <tr>\n",
       "      <th>0</th>\n",
       "      <td>2023-10-03</td>\n",
       "      <td>10</td>\n",
       "      <td>2023</td>\n",
       "    </tr>\n",
       "    <tr>\n",
       "      <th>1</th>\n",
       "      <td>2023-10-04</td>\n",
       "      <td>10</td>\n",
       "      <td>2023</td>\n",
       "    </tr>\n",
       "    <tr>\n",
       "      <th>2</th>\n",
       "      <td>2023-10-05</td>\n",
       "      <td>10</td>\n",
       "      <td>2023</td>\n",
       "    </tr>\n",
       "    <tr>\n",
       "      <th>3</th>\n",
       "      <td>2023-10-06</td>\n",
       "      <td>10</td>\n",
       "      <td>2023</td>\n",
       "    </tr>\n",
       "    <tr>\n",
       "      <th>4</th>\n",
       "      <td>2023-10-07</td>\n",
       "      <td>10</td>\n",
       "      <td>2023</td>\n",
       "    </tr>\n",
       "    <tr>\n",
       "      <th>5</th>\n",
       "      <td>2023-10-08</td>\n",
       "      <td>10</td>\n",
       "      <td>2023</td>\n",
       "    </tr>\n",
       "    <tr>\n",
       "      <th>6</th>\n",
       "      <td>2023-10-09</td>\n",
       "      <td>10</td>\n",
       "      <td>2023</td>\n",
       "    </tr>\n",
       "    <tr>\n",
       "      <th>7</th>\n",
       "      <td>2023-10-10</td>\n",
       "      <td>10</td>\n",
       "      <td>2023</td>\n",
       "    </tr>\n",
       "    <tr>\n",
       "      <th>8</th>\n",
       "      <td>2023-10-11</td>\n",
       "      <td>10</td>\n",
       "      <td>2023</td>\n",
       "    </tr>\n",
       "    <tr>\n",
       "      <th>9</th>\n",
       "      <td>2023-10-12</td>\n",
       "      <td>10</td>\n",
       "      <td>2023</td>\n",
       "    </tr>\n",
       "    <tr>\n",
       "      <th>10</th>\n",
       "      <td>2023-10-13</td>\n",
       "      <td>10</td>\n",
       "      <td>2023</td>\n",
       "    </tr>\n",
       "    <tr>\n",
       "      <th>11</th>\n",
       "      <td>2023-10-14</td>\n",
       "      <td>10</td>\n",
       "      <td>2023</td>\n",
       "    </tr>\n",
       "    <tr>\n",
       "      <th>12</th>\n",
       "      <td>2023-10-15</td>\n",
       "      <td>10</td>\n",
       "      <td>2023</td>\n",
       "    </tr>\n",
       "    <tr>\n",
       "      <th>13</th>\n",
       "      <td>2023-10-16</td>\n",
       "      <td>10</td>\n",
       "      <td>2023</td>\n",
       "    </tr>\n",
       "    <tr>\n",
       "      <th>14</th>\n",
       "      <td>2023-10-17</td>\n",
       "      <td>10</td>\n",
       "      <td>2023</td>\n",
       "    </tr>\n",
       "    <tr>\n",
       "      <th>15</th>\n",
       "      <td>2023-10-18</td>\n",
       "      <td>10</td>\n",
       "      <td>2023</td>\n",
       "    </tr>\n",
       "    <tr>\n",
       "      <th>16</th>\n",
       "      <td>2023-10-19</td>\n",
       "      <td>10</td>\n",
       "      <td>2023</td>\n",
       "    </tr>\n",
       "    <tr>\n",
       "      <th>17</th>\n",
       "      <td>2023-10-20</td>\n",
       "      <td>10</td>\n",
       "      <td>2023</td>\n",
       "    </tr>\n",
       "    <tr>\n",
       "      <th>18</th>\n",
       "      <td>2023-10-21</td>\n",
       "      <td>10</td>\n",
       "      <td>2023</td>\n",
       "    </tr>\n",
       "    <tr>\n",
       "      <th>19</th>\n",
       "      <td>2023-10-22</td>\n",
       "      <td>10</td>\n",
       "      <td>2023</td>\n",
       "    </tr>\n",
       "    <tr>\n",
       "      <th>20</th>\n",
       "      <td>2023-10-23</td>\n",
       "      <td>10</td>\n",
       "      <td>2023</td>\n",
       "    </tr>\n",
       "    <tr>\n",
       "      <th>21</th>\n",
       "      <td>2023-10-24</td>\n",
       "      <td>10</td>\n",
       "      <td>2023</td>\n",
       "    </tr>\n",
       "    <tr>\n",
       "      <th>22</th>\n",
       "      <td>2023-10-25</td>\n",
       "      <td>10</td>\n",
       "      <td>2023</td>\n",
       "    </tr>\n",
       "    <tr>\n",
       "      <th>23</th>\n",
       "      <td>2023-10-26</td>\n",
       "      <td>10</td>\n",
       "      <td>2023</td>\n",
       "    </tr>\n",
       "    <tr>\n",
       "      <th>24</th>\n",
       "      <td>2023-10-27</td>\n",
       "      <td>10</td>\n",
       "      <td>2023</td>\n",
       "    </tr>\n",
       "    <tr>\n",
       "      <th>25</th>\n",
       "      <td>2023-10-28</td>\n",
       "      <td>10</td>\n",
       "      <td>2023</td>\n",
       "    </tr>\n",
       "    <tr>\n",
       "      <th>26</th>\n",
       "      <td>2023-10-29</td>\n",
       "      <td>10</td>\n",
       "      <td>2023</td>\n",
       "    </tr>\n",
       "    <tr>\n",
       "      <th>27</th>\n",
       "      <td>2023-10-30</td>\n",
       "      <td>10</td>\n",
       "      <td>2023</td>\n",
       "    </tr>\n",
       "    <tr>\n",
       "      <th>28</th>\n",
       "      <td>2023-10-31</td>\n",
       "      <td>10</td>\n",
       "      <td>2023</td>\n",
       "    </tr>\n",
       "    <tr>\n",
       "      <th>29</th>\n",
       "      <td>2023-11-01</td>\n",
       "      <td>11</td>\n",
       "      <td>2023</td>\n",
       "    </tr>\n",
       "    <tr>\n",
       "      <th>30</th>\n",
       "      <td>2023-11-02</td>\n",
       "      <td>11</td>\n",
       "      <td>2023</td>\n",
       "    </tr>\n",
       "    <tr>\n",
       "      <th>31</th>\n",
       "      <td>2023-11-03</td>\n",
       "      <td>11</td>\n",
       "      <td>2023</td>\n",
       "    </tr>\n",
       "  </tbody>\n",
       "</table>\n",
       "</div>"
      ],
      "text/plain": [
       "         date  month  year\n",
       "0  2023-10-03     10  2023\n",
       "1  2023-10-04     10  2023\n",
       "2  2023-10-05     10  2023\n",
       "3  2023-10-06     10  2023\n",
       "4  2023-10-07     10  2023\n",
       "5  2023-10-08     10  2023\n",
       "6  2023-10-09     10  2023\n",
       "7  2023-10-10     10  2023\n",
       "8  2023-10-11     10  2023\n",
       "9  2023-10-12     10  2023\n",
       "10 2023-10-13     10  2023\n",
       "11 2023-10-14     10  2023\n",
       "12 2023-10-15     10  2023\n",
       "13 2023-10-16     10  2023\n",
       "14 2023-10-17     10  2023\n",
       "15 2023-10-18     10  2023\n",
       "16 2023-10-19     10  2023\n",
       "17 2023-10-20     10  2023\n",
       "18 2023-10-21     10  2023\n",
       "19 2023-10-22     10  2023\n",
       "20 2023-10-23     10  2023\n",
       "21 2023-10-24     10  2023\n",
       "22 2023-10-25     10  2023\n",
       "23 2023-10-26     10  2023\n",
       "24 2023-10-27     10  2023\n",
       "25 2023-10-28     10  2023\n",
       "26 2023-10-29     10  2023\n",
       "27 2023-10-30     10  2023\n",
       "28 2023-10-31     10  2023\n",
       "29 2023-11-01     11  2023\n",
       "30 2023-11-02     11  2023\n",
       "31 2023-11-03     11  2023"
      ]
     },
     "execution_count": 72,
     "metadata": {},
     "output_type": "execute_result"
    }
   ],
   "source": [
    "date = pd.date_range(start = '2023-10-03', end = '2023-11-03')\n",
    "df=pd.DataFrame(date, columns =  ['date'])\n",
    "df['month'] = df['date'].dt.month\n",
    "df['year'] = df['date'].dt.year\n",
    "df"
   ]
  },
  {
   "cell_type": "markdown",
   "id": "15212276-5b27-4f44-9c82-3182f4c52b8c",
   "metadata": {},
   "source": [
    "# Q8. Write a Python program that takes in two dates as input (in the format YYYY-MM-DD) and calculates the difference between them in days, hours, and minutes using Pandas time delta. The program should prompt the user to enter the dates and display the result."
   ]
  },
  {
   "cell_type": "code",
   "execution_count": 73,
   "id": "2abb21ef-2f89-4d19-83b3-99e87778779d",
   "metadata": {},
   "outputs": [
    {
     "name": "stdout",
     "output_type": "stream",
     "text": [
      "date1 in yyyy-mm-dd format\n"
     ]
    },
    {
     "ename": "KeyboardInterrupt",
     "evalue": "Interrupted by user",
     "output_type": "error",
     "traceback": [
      "\u001b[0;31m---------------------------------------------------------------------------\u001b[0m",
      "\u001b[0;31mKeyboardInterrupt\u001b[0m                         Traceback (most recent call last)",
      "Cell \u001b[0;32mIn[73], line 1\u001b[0m\n\u001b[0;32m----> 1\u001b[0m date_1 \u001b[38;5;241m=\u001b[39m \u001b[38;5;28;43minput\u001b[39;49m\u001b[43m(\u001b[49m\u001b[38;5;28;43mprint\u001b[39;49m\u001b[43m(\u001b[49m\u001b[38;5;124;43m'\u001b[39;49m\u001b[38;5;124;43mdate1 in yyyy-mm-dd format\u001b[39;49m\u001b[38;5;124;43m'\u001b[39;49m\u001b[43m)\u001b[49m\u001b[43m)\u001b[49m\n\u001b[1;32m      2\u001b[0m date_2 \u001b[38;5;241m=\u001b[39m \u001b[38;5;28minput\u001b[39m(\u001b[38;5;28mprint\u001b[39m(\u001b[38;5;124m'\u001b[39m\u001b[38;5;124mdate2 in yyyy-mm-dd format\u001b[39m\u001b[38;5;124m'\u001b[39m))\n\u001b[1;32m      4\u001b[0m date_1 \u001b[38;5;241m=\u001b[39m pd\u001b[38;5;241m.\u001b[39mto_datetime(date_1)\n",
      "File \u001b[0;32m/opt/conda/lib/python3.10/site-packages/ipykernel/kernelbase.py:1175\u001b[0m, in \u001b[0;36mKernel.raw_input\u001b[0;34m(self, prompt)\u001b[0m\n\u001b[1;32m   1171\u001b[0m \u001b[38;5;28;01mif\u001b[39;00m \u001b[38;5;129;01mnot\u001b[39;00m \u001b[38;5;28mself\u001b[39m\u001b[38;5;241m.\u001b[39m_allow_stdin:\n\u001b[1;32m   1172\u001b[0m     \u001b[38;5;28;01mraise\u001b[39;00m StdinNotImplementedError(\n\u001b[1;32m   1173\u001b[0m         \u001b[38;5;124m\"\u001b[39m\u001b[38;5;124mraw_input was called, but this frontend does not support input requests.\u001b[39m\u001b[38;5;124m\"\u001b[39m\n\u001b[1;32m   1174\u001b[0m     )\n\u001b[0;32m-> 1175\u001b[0m \u001b[38;5;28;01mreturn\u001b[39;00m \u001b[38;5;28;43mself\u001b[39;49m\u001b[38;5;241;43m.\u001b[39;49m\u001b[43m_input_request\u001b[49m\u001b[43m(\u001b[49m\n\u001b[1;32m   1176\u001b[0m \u001b[43m    \u001b[49m\u001b[38;5;28;43mstr\u001b[39;49m\u001b[43m(\u001b[49m\u001b[43mprompt\u001b[49m\u001b[43m)\u001b[49m\u001b[43m,\u001b[49m\n\u001b[1;32m   1177\u001b[0m \u001b[43m    \u001b[49m\u001b[38;5;28;43mself\u001b[39;49m\u001b[38;5;241;43m.\u001b[39;49m\u001b[43m_parent_ident\u001b[49m\u001b[43m[\u001b[49m\u001b[38;5;124;43m\"\u001b[39;49m\u001b[38;5;124;43mshell\u001b[39;49m\u001b[38;5;124;43m\"\u001b[39;49m\u001b[43m]\u001b[49m\u001b[43m,\u001b[49m\n\u001b[1;32m   1178\u001b[0m \u001b[43m    \u001b[49m\u001b[38;5;28;43mself\u001b[39;49m\u001b[38;5;241;43m.\u001b[39;49m\u001b[43mget_parent\u001b[49m\u001b[43m(\u001b[49m\u001b[38;5;124;43m\"\u001b[39;49m\u001b[38;5;124;43mshell\u001b[39;49m\u001b[38;5;124;43m\"\u001b[39;49m\u001b[43m)\u001b[49m\u001b[43m,\u001b[49m\n\u001b[1;32m   1179\u001b[0m \u001b[43m    \u001b[49m\u001b[43mpassword\u001b[49m\u001b[38;5;241;43m=\u001b[39;49m\u001b[38;5;28;43;01mFalse\u001b[39;49;00m\u001b[43m,\u001b[49m\n\u001b[1;32m   1180\u001b[0m \u001b[43m\u001b[49m\u001b[43m)\u001b[49m\n",
      "File \u001b[0;32m/opt/conda/lib/python3.10/site-packages/ipykernel/kernelbase.py:1217\u001b[0m, in \u001b[0;36mKernel._input_request\u001b[0;34m(self, prompt, ident, parent, password)\u001b[0m\n\u001b[1;32m   1214\u001b[0m             \u001b[38;5;28;01mbreak\u001b[39;00m\n\u001b[1;32m   1215\u001b[0m \u001b[38;5;28;01mexcept\u001b[39;00m \u001b[38;5;167;01mKeyboardInterrupt\u001b[39;00m:\n\u001b[1;32m   1216\u001b[0m     \u001b[38;5;66;03m# re-raise KeyboardInterrupt, to truncate traceback\u001b[39;00m\n\u001b[0;32m-> 1217\u001b[0m     \u001b[38;5;28;01mraise\u001b[39;00m \u001b[38;5;167;01mKeyboardInterrupt\u001b[39;00m(\u001b[38;5;124m\"\u001b[39m\u001b[38;5;124mInterrupted by user\u001b[39m\u001b[38;5;124m\"\u001b[39m) \u001b[38;5;28;01mfrom\u001b[39;00m \u001b[38;5;28mNone\u001b[39m\n\u001b[1;32m   1218\u001b[0m \u001b[38;5;28;01mexcept\u001b[39;00m \u001b[38;5;167;01mException\u001b[39;00m:\n\u001b[1;32m   1219\u001b[0m     \u001b[38;5;28mself\u001b[39m\u001b[38;5;241m.\u001b[39mlog\u001b[38;5;241m.\u001b[39mwarning(\u001b[38;5;124m\"\u001b[39m\u001b[38;5;124mInvalid Message:\u001b[39m\u001b[38;5;124m\"\u001b[39m, exc_info\u001b[38;5;241m=\u001b[39m\u001b[38;5;28;01mTrue\u001b[39;00m)\n",
      "\u001b[0;31mKeyboardInterrupt\u001b[0m: Interrupted by user"
     ]
    }
   ],
   "source": [
    "date_1 = input(print('date1 in yyyy-mm-dd format'))\n",
    "date_2 = input(print('date2 in yyyy-mm-dd format'))\n",
    "\n",
    "date_1 = pd.to_datetime(date_1)\n",
    "date_2 = pd.to_datetime(date_2)\n",
    "\n",
    "diff = date_2 - date_1"
   ]
  },
  {
   "cell_type": "code",
   "execution_count": 30,
   "id": "4bf3d456-016c-457e-b6ba-7ea45239abcb",
   "metadata": {},
   "outputs": [
    {
     "name": "stdout",
     "output_type": "stream",
     "text": [
      "31\n",
      "124 days 00:00:00\n",
      "-106752 days +00:12:43.145224193\n"
     ]
    }
   ],
   "source": [
    "days = diff.days\n",
    "hours = diff*4\n",
    "minuts = diff.min\n",
    "\n",
    "print(days)\n",
    "print(hours)\n",
    "print(minuts)"
   ]
  },
  {
   "cell_type": "markdown",
   "id": "8515c1c0-0a4d-437c-832e-9a402697959f",
   "metadata": {},
   "source": [
    "# Q9. Write a Python program that reads a CSV file containing categorical data and converts a specified column to a categorical data type. The program should prompt the user to enter the file path, column name, and category order, and then display the sorted data."
   ]
  },
  {
   "cell_type": "code",
   "execution_count": null,
   "id": "b47d5148-4e20-4010-ab13-b2b6b453f4e6",
   "metadata": {},
   "outputs": [
    {
     "name": "stdout",
     "output_type": "stream",
     "text": [
      "Enter the path of file\n"
     ]
    }
   ],
   "source": [
    "def x(path):\n",
    "    df = pd.read_csv(path)\n",
    "    print(df.head(5))\n",
    "    \n",
    "    column = input(print(\"Enter the Column name you want to convert into categorical column\"))\n",
    "    df[column] = df[column].astype('category')\n",
    "\n",
    "    return df.info()\n",
    "    \n",
    "    \n",
    "path = input(print('Enter the path of file'))\n",
    "x(path)"
   ]
  },
  {
   "cell_type": "markdown",
   "id": "92e66016-38e8-4160-9371-c53a251586aa",
   "metadata": {},
   "source": [
    "# Q10. Write a Python program that reads a CSV file containing sales data for different products and visualizes the data using a stacked bar chart to show the sales of each product category over time. The program should prompt the user to enter the file path and display the chart."
   ]
  },
  {
   "cell_type": "code",
   "execution_count": 40,
   "id": "76d38881-e0ef-4077-bf92-c7525391d0c8",
   "metadata": {},
   "outputs": [
    {
     "name": "stdout",
     "output_type": "stream",
     "text": [
      "Enter the path of sales data file\n"
     ]
    },
    {
     "name": "stdin",
     "output_type": "stream",
     "text": [
      "None sales.csv\n"
     ]
    },
    {
     "name": "stdout",
     "output_type": "stream",
     "text": [
      "           Category      Sub Category  Order Date  Profit\n",
      "0      Oil & Masala           Masalas  11-08-2017  401.28\n",
      "1         Beverages     Health Drinks  11-08-2017  149.80\n",
      "2       Food Grains      Atta & Flour  06-12-2017  165.20\n",
      "3  Fruits & Veggies  Fresh Vegetables  10-11-2016   89.60\n",
      "4       Food Grains   Organic Staples  10-11-2016  918.45\n"
     ]
    },
    {
     "data": {
      "image/png": "[encoded data removed]",
      "text/plain": [
       "<Figure size 1000x600 with 1 Axes>"
      ]
     },
     "metadata": {},
     "output_type": "display_data"
    }
   ],
   "source": [
    "import pandas as pd\n",
    "import matplotlib.pyplot as plt\n",
    "\n",
    "def sale_data(path):\n",
    "    df = pd.read_csv(path)\n",
    "    print(df.head(5))\n",
    "    \n",
    "    pivot_df = df.pivot_table(index= 'Category', columns = 'Sub Category' , values = 'Profit',aggfunc = 'sum')\n",
    "    pivot_df.T.plot(kind='bar', stacked=True, figsize=(10, 6))\n",
    "    plt.xlabel('Sub Categories')\n",
    "    plt.ylabel('Profit')\n",
    "    plt.title('Categories wise profit')\n",
    "    plt.show()\n",
    "    \n",
    "    \n",
    "path = input(print('Enter the path of sales data file'))\n",
    "sale_data(path)\n",
    "\n",
    "\n",
    "\n",
    "\n",
    "\n"
   ]
  },
  {
   "cell_type": "markdown",
   "id": "b574167c-2419-4051-b2d8-887a0450dd23",
   "metadata": {},
   "source": [
    "# Q11. You are given a CSV file containing student data that includes the student ID and their test score. Write a Python program that reads the CSV file, calculates the mean, median, and mode of the test scores, and displays the results in a table. The program should do the following:\n",
    "   \n",
    "    Prompt the user to enter the file path of the CSV file containing the student data.\n",
    "    Read the CSV file into a Pandas DataFrame.\n",
    "    Calculate the mean, median, and mode of the test scores using Pandas tools.\n",
    "    Display the mean, median, and mode in a table.\n",
    "    \n",
    "Assume the CSV file contains the following columns.\n",
    "\n",
    "    I Student ID: The ID of the student.\n",
    "    I Test Score: The score of the student's test."
   ]
  },
  {
   "cell_type": "code",
   "execution_count": 67,
   "id": "f98aff1a-8010-4cdf-8198-c483a3969d1f",
   "metadata": {},
   "outputs": [
    {
     "name": "stdout",
     "output_type": "stream",
     "text": [
      "Enter the path\n"
     ]
    },
    {
     "name": "stdin",
     "output_type": "stream",
     "text": [
      "None stud.csv\n"
     ]
    },
    {
     "name": "stdout",
     "output_type": "stream",
     "text": [
      "      Mean  Median  Mode\n",
      "0  203.312   205.0   204\n"
     ]
    }
   ],
   "source": [
    "def task11(path):\n",
    "    df = pd.read_csv(path)\n",
    "    df['total_score'] = df['math_score'] + df['reading_score'] + df['writing_score']\n",
    "    mean = df['total_score'].mean()\n",
    "    median = df['total_score'].median()\n",
    "    mode = df['total_score'].mode()\n",
    "    \n",
    "    stud_df = pd.DataFrame({\n",
    "        'Mean' : mean,\n",
    "        'Median' : median,\n",
    "        'Mode' : mode\n",
    "    })\n",
    "    \n",
    "    print(stud_df)\n",
    "\n",
    "path = input(print('Enter the path'))\n",
    "task11(path)"
   ]
  },
  {
   "cell_type": "code",
   "execution_count": null,
   "id": "f5f55fcf-7d27-4cce-a763-937e84bac2e5",
   "metadata": {},
   "outputs": [],
   "source": []
  },
  {
   "cell_type": "code",
   "execution_count": null,
   "id": "fa933ab2-540f-4cae-b602-b14a5e72e413",
   "metadata": {},
   "outputs": [],
   "source": []
  }
 ],
 "metadata": {
  "kernelspec": {
   "display_name": "Python 3 (ipykernel)",
   "language": "python",
   "name": "python3"
  },
  "language_info": {
   "codemirror_mode": {
    "name": "ipython",
    "version": 3
   },
   "file_extension": ".py",
   "mimetype": "text/x-python",
   "name": "python",
   "nbconvert_exporter": "python",
   "pygments_lexer": "ipython3",
   "version": "3.10.8"
  }
 },
 "nbformat": 4,
 "nbformat_minor": 5
}
